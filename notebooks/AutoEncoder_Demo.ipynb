{
 "cells": [
  {
   "cell_type": "markdown",
   "id": "1965660f",
   "metadata": {},
   "source": [
    "# AutoEncoder Demo\n",
    "This notebook demonstrates training a basic autoencoder on sample tabular data."
   ]
  },
  {
   "cell_type": "code",
   "execution_count": null,
   "id": "4832a3ae",
   "metadata": {},
   "outputs": [],
   "source": [
    "import pandas as pd\n",
    "import numpy as np\n",
    "from keras.models import Model\n",
    "from keras.layers import Input, Dense\n",
    "\n",
    "# Load sample data\n",
    "df = pd.read_csv('../data/sample_data.csv')\n",
    "X = df.values\n",
    "\n",
    "# Define autoencoder\n",
    "input_dim = X.shape[1]\n",
    "encoding_dim = 2\n",
    "input_layer = Input(shape=(input_dim,))\n",
    "encoded = Dense(encoding_dim, activation='relu')(input_layer)\n",
    "decoded = Dense(input_dim, activation='linear')(encoded)\n",
    "autoencoder = Model(input_layer, decoded)\n",
    "autoencoder.compile(optimizer='adam', loss='mse')\n",
    "\n",
    "# Train\n",
    "autoencoder.fit(X, X, epochs=50, verbose=0)\n",
    "\n",
    "# Encode\n",
    "encoder = Model(input_layer, encoded)\n",
    "encoded_data = encoder.predict(X)\n",
    "print('Encoded representations:')\n",
    "print(encoded_data)"
   ]
  }
 ],
 "metadata": {
  "language_info": {
   "name": "python"
  }
 },
 "nbformat": 4,
 "nbformat_minor": 5
}
